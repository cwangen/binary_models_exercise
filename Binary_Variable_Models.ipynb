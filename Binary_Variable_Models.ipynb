{
 "cells": [
  {
   "cell_type": "markdown",
   "id": "ea582b26",
   "metadata": {},
   "source": [
    "# Note\n",
    "Thank you for taking the time to read my notebook! I write rather casually throughout this, I would be more particular with my language and code, if expected. In addition, throughout this notebook I mention additional things to consider or possibly do, but don't do them here. This was a brief example of logistic regression and random forest I was asked to do, so the process was not particularly thorough as it was time limited.\n",
    "\n",
    "# Intro to project and data\n",
    "\n",
    "I was asked to create a logistic regression model and a second model (for sake of time, I did a quick random forest.) \n",
    "\n",
    "`Modeling Dataset.csv`, which contains 30,000 customers and 53 columns. The only information on the columns is as follows:\n",
    "- `target` is the dependent variable\n",
    "- `record` is the unique ID for each row\n",
    "- `benchmark` is a generic score for comparison, not to be used as model input\n",
    "- 50 unlabelled features start with `Var_` (no definition provided)\n",
    "\n",
    "There is also a data dictionary that gives acceptable values/ranges for the variables, including `Special Values` that are not fully described.\n",
    "\n",
    " \n",
    "# Quick Summary\n",
    "\n",
    "## Data cleaning and variable creation\n",
    "   - The only missing values were in categorical variables, so they were given their own categorical value (\"Missing\").\n",
    "   - No out of bounds values greater than zero, and all negative values were assumed to be special values, even if out of bounds. \n",
    "   - Special values were assumed to be one category per variable. Additional dummy variables with special (1) or not special (0) were created.\n",
    "   - I considered and tested removal of features with minimal variance, but ultimately left them in.\n",
    "   - A stratified test/train set were created. \n",
    "   - **Further things to consider if spending more time:** Ranges of variables, what are special variables, would any variables be dropped based on analysis or what the variable is. Also other sorts of sampling options for imbalanced data (oversampling, undersampling, SMOTE, etc.)\n",
    "   \n",
    "## Logistic Regression\n",
    "   - L2 penalty was used.\n",
    "   - Checked balanced weighting of classes for imbalanced sample, as well as grid search for weights.\n",
    "   - Confusion matrix and Brier score for both, neither is perfect, so final choice seems dependent on project interest.\n",
    "   - **Further things to consider if spending more time:** There are a vareity of ways to perform variable selection in logistic regression (forward selection, backward selection, other penalties, RFE...) and I simply used one here. More time could be spent exploring variables. More tuning of weights, particularly with more knowledge about what the model actually is.\n",
    "   \n",
    "## Random Forest\n",
    "   - Picked random forest as second model, considered possible models and features.\n",
    "   - Confusion matrix and Brier score for test data.\n",
    "   - **Further things to consider if spending more time:** More tuning. Ideally with more time I might do a lot more exploration on what model is best, but I just picked random forest, and it wasn't a great model for this data.\n",
    "   \n",
    "## Comparison to benchmark and eachother\n",
    "   - I cant tell quite what the benchmark is - we're asked to give percentages between 0 and 100, but they're between 0 and 1000. I'm assuming that 0 is zero, 1 is 100, and and other number should be divided by 10.\n",
    "   - With that assumption, the benchmark is *really* overestimating the number of target values equal to 1. So while the logistic regression model isn't perfect, it is an improvement.\n",
    "   - **Further things to consider if spending more time:** I haven't checked the quality of the benchmark, to be honest. So regardless of comparison, I don't know if that makes my models good."
   ]
  },
  {
   "cell_type": "markdown",
   "id": "1df098aa",
   "metadata": {},
   "source": [
    "# Setup\n",
    "\n",
    "In general I like to have all of my packages imported in the same chunk of code (or since we're in a jupyter notebook, a cell). Even though I have to update as I use more packages, I like having an idea of what the notebook is doing, and keeping it separate from the actual work. I also import the datasets here. "
   ]
  },
  {
   "cell_type": "code",
   "execution_count": 1,
   "id": "5665ab81",
   "metadata": {},
   "outputs": [],
   "source": [
    "# Packages setup\n",
    "\n",
    "#General packages\n",
    "import pandas as pd\n",
    "import numpy as np\n",
    "import seaborn as sns\n",
    "import matplotlib.pyplot as plt\n",
    "\n",
    "# Cleaning things and pipelines\n",
    "from sklearn.feature_selection import VarianceThreshold\n",
    "from sklearn.model_selection import train_test_split\n",
    "from sklearn.datasets import make_classification\n",
    "from sklearn.linear_model import LogisticRegression\n",
    "from sklearn.model_selection import train_test_split\n",
    "from sklearn.pipeline import make_pipeline\n",
    "from sklearn.preprocessing import StandardScaler\n",
    "from sklearn.preprocessing import MinMaxScaler\n",
    "from sklearn.metrics import brier_score_loss\n",
    "\n",
    "\n",
    "# Logistic Regression Packages\n",
    "from sklearn.linear_model import LogisticRegression\n",
    "from sklearn.feature_selection import RFE\n",
    "from sklearn.metrics import classification_report, confusion_matrix\n",
    "from sklearn.preprocessing import PolynomialFeatures\n",
    "from sklearn.model_selection import GridSearchCV\n",
    "from sklearn.model_selection import StratifiedKFold\n",
    "\n",
    "#Random forests\n",
    "from sklearn.ensemble import RandomForestClassifier\n",
    "from sklearn.datasets import make_classification\n",
    "\n",
    "# Comparisons\n",
    "from sklearn.metrics import f1_score\n",
    "from sklearn.metrics import brier_score_loss\n"
   ]
  },
  {
   "cell_type": "code",
   "execution_count": 2,
   "id": "2c12c563",
   "metadata": {},
   "outputs": [],
   "source": [
    "# Import datasets\n",
    "df = pd.read_csv('Modeling Dataset.csv')\n",
    "ddict = pd.read_csv('Modeling_exercise_data_dictionary.csv')"
   ]
  },
  {
   "cell_type": "markdown",
   "id": "c95eb60c",
   "metadata": {},
   "source": [
    "# Data Exploration/Cleaning\n",
    "\n",
    "In my experience, this process can take hours all on its own. There's a lot of nuances that can be addressed: errors, imputing, new variable creation, etc. So, I'm going to go over some general ideas.\n",
    "\n",
    "## Preliminaries to think about:\n",
    "\n",
    "### How are values treated if they are missing\n",
    "- This is the sort of thing I would want further context for. Some variables are better given means, medians, noted as missing, depending on what they are. Is it missing at random, or not?\n",
    "- Variables with more than a certain percentage of missing values will be removed\n",
    "- Rows with more that a certain percentage of missing values will be removed\n",
    "- For categorical variables (or values that are easily switched to a categorical format), we can give missing values a unique variable\n",
    "    \n",
    "    \n",
    "### How are values treated if they are special values (as denoted in Modeling_exercise_data_dictionary.csv)\n",
    "- I'm not certain what is meant by this. For non-categorical variables, I will create a new column indicating that they have a special value. Categorical variables will not require a new column, since the category should take into account whatever is special about the variable. \n",
    "\n",
    "### How are values treated if they are out of bounds (not in the defined ranges, please refer to the Modeling_exercise_data_dictionary.csv to identify valid boundaries)\n",
    "- My assumption is that a variable that is out of bounds is not usable. It will be treated like a missing value, as described above.\n",
    "\n",
    "### Transformations to the values\n",
    "- Avoid unless necessary or helpful. Try to minimize data leakage.\n",
    "\n",
    "## Outline of next steps\n",
    "\n",
    "1. Treat missing values as seems reasonable.\n",
    "2. Treat out of bounds values.\n",
    "3. Create binary variables for special values if needed\n",
    "4. Any other transformations as needed for further modeling, removing variables with very few examples/variance"
   ]
  },
  {
   "cell_type": "code",
   "execution_count": 3,
   "id": "a8ace836",
   "metadata": {},
   "outputs": [
    {
     "name": "stdout",
     "output_type": "stream",
     "text": [
      "<class 'pandas.core.frame.DataFrame'>\n",
      "RangeIndex: 30000 entries, 0 to 29999\n",
      "Data columns (total 53 columns):\n",
      " #   Column     Non-Null Count  Dtype  \n",
      "---  ------     --------------  -----  \n",
      " 0   Record     30000 non-null  int64  \n",
      " 1   Var_79     30000 non-null  float64\n",
      " 2   Var_359    30000 non-null  float64\n",
      " 3   Var_430    30000 non-null  float64\n",
      " 4   Var_255    30000 non-null  float64\n",
      " 5   Var_927    30000 non-null  float64\n",
      " 6   Var_657    30000 non-null  float64\n",
      " 7   Var_623    30000 non-null  float64\n",
      " 8   Var_386    30000 non-null  float64\n",
      " 9   Var_876    27966 non-null  object \n",
      " 10  Var_889    30000 non-null  float64\n",
      " 11  Var_782    30000 non-null  float64\n",
      " 12  Var_192    30000 non-null  float64\n",
      " 13  Var_687    30000 non-null  float64\n",
      " 14  Var_31     30000 non-null  float64\n",
      " 15  Var_712    30000 non-null  float64\n",
      " 16  Var_312    30000 non-null  float64\n",
      " 17  Var_289    30000 non-null  float64\n",
      " 18  Var_294    30000 non-null  float64\n",
      " 19  Var_706    30000 non-null  float64\n",
      " 20  Var_669    30000 non-null  float64\n",
      " 21  Var_862    30000 non-null  float64\n",
      " 22  Var_993    30000 non-null  float64\n",
      " 23  Var_958    30000 non-null  float64\n",
      " 24  Var_760    30000 non-null  float64\n",
      " 25  Var_50     30000 non-null  float64\n",
      " 26  Var_287    30000 non-null  float64\n",
      " 27  Var_476    30000 non-null  float64\n",
      " 28  Var_975    30000 non-null  float64\n",
      " 29  Var_259    30000 non-null  float64\n",
      " 30  Var_231    30000 non-null  float64\n",
      " 31  Var_205    30000 non-null  float64\n",
      " 32  Var_895    30000 non-null  float64\n",
      " 33  Var_420    30000 non-null  float64\n",
      " 34  Var_563    30000 non-null  float64\n",
      " 35  Var_1029   30000 non-null  float64\n",
      " 36  Var_842    30000 non-null  float64\n",
      " 37  Var_926    30000 non-null  float64\n",
      " 38  Var_721    30000 non-null  float64\n",
      " 39  Var_153    30000 non-null  float64\n",
      " 40  Var_324    30000 non-null  float64\n",
      " 41  Var_404    30000 non-null  float64\n",
      " 42  Var_454    30000 non-null  float64\n",
      " 43  Var_857    30000 non-null  float64\n",
      " 44  Var_240    30000 non-null  float64\n",
      " 45  Var_144    30000 non-null  float64\n",
      " 46  Var_128    30000 non-null  float64\n",
      " 47  Var_285    30000 non-null  float64\n",
      " 48  Var_28     30000 non-null  float64\n",
      " 49  Var_923    30000 non-null  float64\n",
      " 50  Var_148    30000 non-null  float64\n",
      " 51  target     30000 non-null  float64\n",
      " 52  benchmark  30000 non-null  float64\n",
      "dtypes: float64(51), int64(1), object(1)\n",
      "memory usage: 12.1+ MB\n"
     ]
    }
   ],
   "source": [
    "#### 1. Treat missing values as seems reasonable ###\n",
    "\n",
    "# Get info about data types and nulls using info\n",
    "df.info() \n",
    "# Info shows only var_876 has nulls, so I look at that\n",
    "df['Var_876'].unique() \n",
    "# All of the values are object, so we can just give the missing values their own category\n",
    "df['Var_876'].fillna(\"Missing\", inplace = True)"
   ]
  },
  {
   "cell_type": "code",
   "execution_count": 4,
   "id": "5cb06ccc",
   "metadata": {},
   "outputs": [
    {
     "name": "stdout",
     "output_type": "stream",
     "text": [
      "[0]\n",
      "[-5.0, -4.0, -2.0, -1.0, 0.0]\n",
      "[-6.0, -4.0, -3.0, -2.0, -1.0, 0.0]\n",
      "[-5.0, -4.0, -3.0, -2.0, -1.0, -0.5, 0.0]\n",
      "[-4.0, -2.0, -1.0, 0.0]\n",
      "[-7.0, -6.0, -1.0, 0.0]\n",
      "[-6.0, -2.0, -1.0, 0.0]\n",
      "[-6.0, 0.0]\n",
      "[-4.0, -1.0, 0.0]\n",
      "[-6.0, -2.0, -1.0, 0.0]\n",
      "[-6.0, -2.0, -1.0, 0.0]\n",
      "[-4.0, -2.0, 0.0]\n",
      "[-6.0, -2.0, -1.0, 0.0]\n",
      "[-4.0, -1.0, 0.0]\n",
      "[-6.0, -2.0, -1.0, 0.0]\n",
      "[-5.0, -4.0, -1.0, 0.0]\n",
      "[-4.0, -2.0, -1.0, 0.0]\n",
      "[-4.0, -1.0, 0.0]\n",
      "[-6.0, -2.0, -1.0, 0.0]\n",
      "[-6.0, -2.0, -1.0, 0.0]\n",
      "[-6.0, -1.0, 0.0]\n",
      "[-6.0, -2.0, -1.0, 0.0]\n",
      "[-6.0, -2.0, -1.0, 0.0]\n",
      "[-6.0, -2.0, -1.0, 0.0]\n",
      "[-5.0, -4.0, -1.0, 0.0]\n",
      "[-4.0, -2.0, -1.0, 0.0]\n",
      "[-4.0, -3.0, -2.0, -1.0, 0.0]\n",
      "[-9.0, -6.0, -2.0, -1.0, 0.0]\n",
      "[-4.0, -2.0, -1.0, 0.0]\n",
      "[-5.0, -4.0, -2.0, -1.0, 0.0]\n",
      "[-4.0, 0.0]\n",
      "[-6.0, -2.0, -1.0, 0.0]\n",
      "[-6.0, -5.0, -4.0, -3.0, -2.0, -1.0, 0.0]\n",
      "[-4.0, -3.0, -2.0, -1.0, 0.0]\n",
      "[-6.0, -2.0, -1.0, 0.0]\n",
      "[-6.0, -2.0, -1.0, 0.0]\n",
      "[-7.0, -6.0, -1.0, 0.0]\n",
      "[-6.0, -2.0, -1.0, 0.0]\n",
      "[-6.0, -5.0, -4.0, -3.0, -2.0, -1.0, 0.0]\n",
      "[-4.0, -3.0, -2.0, -1.0, 0.0]\n",
      "[-4.0, -1.0, 0.0]\n",
      "[-4.0, -3.0, -2.0, -1.0, 0.0]\n",
      "[-6.0, -2.0, -1.0, 0.0]\n",
      "[-5.0, -4.0, 0.0]\n",
      "[-4.0, -2.0, -1.0, 0.0]\n",
      "[-4.0, -3.0, -2.0, -1.0, 0.0]\n",
      "[-4.0, 0.0]\n",
      "[-4.0, -3.0, -2.0, 0.0]\n",
      "[0.0]\n",
      "[-5.0, -4.0, -1.0, 0.0]\n",
      "[0.0]\n",
      "[0.0]\n"
     ]
    }
   ],
   "source": [
    "#### 2. Treat out of bounds values ####\n",
    "\n",
    "#Setup comparison of bounds to check maxes\n",
    "dfnames = ddict['Feature Name']\n",
    "dfnames = dfnames.tolist()\n",
    "maxes = ddict['Max Valid Value']#.drop('Var_876')\n",
    "dfmaxes = df[dfnames].max()\n",
    "maxes.index = dfnames\n",
    "dfmaxes = dfmaxes.drop(\"Var_876\")\n",
    "maxes = maxes.drop(\"Var_876\")\n",
    "# Check that none are greater than maxes\n",
    "((maxes - dfmaxes)>= 0).sum() == len(maxes)\n",
    "#Comes out as true. So no values are too large.\n",
    "\n",
    "# Normally I'd do this in a better way, but this is quick enough\n",
    "testdf = df\n",
    "testdf = testdf.drop(\"Var_876\", axis = 1)\n",
    "testdf[testdf > 0] = 0\n",
    "#dfnames2 = dfnames\n",
    "#dfnames2.remove('Var_876')\n",
    "#testdf = testdf[dfnames2]\n",
    "for col in testdf:\n",
    "    print(sorted(testdf[col].unique()))\n",
    "\n",
    "# So the printout of the unique negative values doesn't totally match up."
   ]
  },
  {
   "cell_type": "markdown",
   "id": "3e360584",
   "metadata": {},
   "source": [
    "As noted above, the unique negative values (IE, below bounds) given in the dataframe don't totally match up with those given. I've looked at these in a few different ways (code not included because it was quickly exploratory and a bit messy), and there's a few columns with discrepancies, defined as containing negative values that aren't the special values. But truthfully, I'm not sure what's best to do with these anyway. The data itself could have typos (particularly that 0.5), but I wonder if some are typos in the list of special values. Since I'll have to deal with all the \"special values\" in a similar way anyway, I'm just going to call this good enough for now.\n",
    "\n",
    "I'm going to just create an additional binary variable correspondingly to each variable (except the one that has no negative values) that is 1 for any negative values. "
   ]
  },
  {
   "cell_type": "code",
   "execution_count": 5,
   "id": "32c3115e",
   "metadata": {
    "scrolled": true
   },
   "outputs": [],
   "source": [
    "#### 3. Create binary values for special variables, other things ####\n",
    "## Create binary for negative values, 1 if negative\n",
    "for col in df:\n",
    "  if col == \"Var_876\" or col == \"benchmark\" or col == \"record\" or col == \"target\": \n",
    "        pass\n",
    "  else:  df[col + \"_binary\"] = np.where(df[col]>=0,0,1)\n",
    "    \n",
    "## Create dummy variables for Var_876\n",
    "df[\"Var_876\"].nunique()\n",
    "df = df.set_index('Record')\n",
    "pd.get_dummies(df, prefix=['Var_876'], columns=['Var_876'])\n",
    "# Then drop the original since not all models can use categories\n",
    "df = df.drop(\"Var_876\", axis =1)\n",
    "# Final df with all variables\n",
    "df['benchmark'] = df['benchmark']/10\n",
    "dfcleanfull = df\n",
    "\n",
    "# Drop benchmark for now (can't have it in the model)\n",
    "df = df.drop(\"benchmark\", axis =1)"
   ]
  },
  {
   "cell_type": "code",
   "execution_count": 6,
   "id": "097d6845",
   "metadata": {},
   "outputs": [],
   "source": [
    "#### 4. Removing features with minimal variance/examples (decided against)\n",
    "\n",
    "#### First we define a function so we don't lose the column titles\n",
    "def variance_threshold_selector(data, threshold=0.5):\n",
    "    selector = VarianceThreshold(threshold)\n",
    "    selector.fit(data)\n",
    "    return data[data.columns[selector.get_support(indices=True)]]\n",
    "\n",
    "# I poked around with this a bit, and ultimately decided a threshold of 0.01 was an okay start\n",
    "# This should remove binary variables with less than 1 percent of values being unique\n",
    "#short = variance_threshold_selector(df, 0.01)\n",
    "\n",
    "#Removes 8 variables\n",
    "#print(len(dfcleanfull.columns))\n",
    "#print(len(short.columns))"
   ]
  },
  {
   "cell_type": "code",
   "execution_count": 7,
   "id": "d3bf6064",
   "metadata": {},
   "outputs": [],
   "source": [
    "#### Setup test and train ####\n",
    "#Since we have so few observed positive responses, I want to ensure that we have equal proportions in the test and train set\n",
    "(sum(df['target'])/len(df)*100) #Only 4.36 of \"target\" is 1.\n",
    "\n",
    "#So I'm going to stratify the test and train test just to be safe\n",
    "y = dfcleanfull['target']\n",
    "X = df.drop('target', axis = 1)\n",
    "#skf = StratifiedKFold(n_splits=2)\n",
    "#skf.split(X, y)\n",
    "X_train, X_test, y_train, y_test = train_test_split(X, y,\n",
    "                                                    stratify=y, \n",
    "                                                    test_size=0.50,\n",
    "                                                   random_state = 42)\n",
    "\n",
    "#Check\n",
    "sum(y_test)/len(y_test)\n",
    "#Success\n",
    "\n",
    "#Backup\n",
    "Xtr = X_train\n",
    "ytr = y_train\n",
    "Xte = X_test\n",
    "yte = y_test"
   ]
  },
  {
   "cell_type": "code",
   "execution_count": 8,
   "id": "2692430c",
   "metadata": {},
   "outputs": [],
   "source": [
    "scaler = MinMaxScaler()\n",
    "scaler.fit(X_train)    \n",
    "X_trainscale = scaler.transform(X_train)\n",
    "X_trainscale_df = pd.DataFrame(X_trainscale, columns = X_train.columns)\n",
    "#X_trainscale_df.head()\n",
    "X_testscale = scaler.transform(X_test)\n",
    "X_testscale_df = pd.DataFrame(X_testscale, columns = X_test.columns)\n",
    "#X_testscale_df.head()\n",
    "\n",
    "#redefine our train and test as scaled\n",
    "X_train = X_trainscale_df\n",
    "X_test = X_testscale_df\n",
    "\n",
    "#y is binary so no change"
   ]
  },
  {
   "cell_type": "markdown",
   "id": "bfaf87d4",
   "metadata": {},
   "source": [
    "# Logistic Regression\n",
    "\n",
    "There's a lot of ways to think about variable selection (L1 or L2 penalties, forward or backward selection, RFE...). I've decided to just use L2, as it is more computationally feasible with this dataset."
   ]
  },
  {
   "cell_type": "code",
   "execution_count": 9,
   "id": "b2278191",
   "metadata": {},
   "outputs": [
    {
     "name": "stdout",
     "output_type": "stream",
     "text": [
      "0.7284666666666667\n",
      "[[10491  3855]\n",
      " [  218   436]]\n"
     ]
    },
    {
     "data": {
      "text/plain": [
       "0.27153333333333335"
      ]
     },
     "execution_count": 9,
     "metadata": {},
     "output_type": "execute_result"
    }
   ],
   "source": [
    "#Logistic Regression with balanced class weights\n",
    "lr2 = LogisticRegression(random_state=0,max_iter = 10000,solver='newton-cg',penalty = \"l2\", class_weight = 'balanced').fit(X_train, y_train)\n",
    "print(lr2.score(X_test, y_test))\n",
    "#class_weight = 'balanced'\n",
    "y_predict = lr2.predict(X_test)\n",
    "print(confusion_matrix(y_test, y_predict))\n",
    "brier_score_loss(y_test,y_predict)\n",
    "\n",
    "# This penalty and setup runs best, ideally I'd tune this more too."
   ]
  },
  {
   "cell_type": "markdown",
   "id": "69e169b5",
   "metadata": {},
   "source": [
    "While balanced helps (it was a useless fit without it), let's tune the weights a bit to make it even better."
   ]
  },
  {
   "cell_type": "code",
   "execution_count": 10,
   "id": "a4987965",
   "metadata": {},
   "outputs": [
    {
     "name": "stdout",
     "output_type": "stream",
     "text": [
      "Fitting 5 folds for each of 200 candidates, totalling 1000 fits\n"
     ]
    },
    {
     "data": {
      "text/plain": [
       "Text(0.5, 1.0, 'Scoring for different class weights')"
      ]
     },
     "execution_count": 10,
     "metadata": {},
     "output_type": "execute_result"
    },
    {
     "data": {
      "image/png": "[encoded data removed]",
      "text/plain": [
       "<Figure size 864x576 with 1 Axes>"
      ]
     },
     "metadata": {},
     "output_type": "display_data"
    }
   ],
   "source": [
    "# While I was familiar with tuning weights via a grid search, this code only is slightly altered from here:\n",
    "# https://www.analyticsvidhya.com/blog/2020/10/improve-class-imbalance-class-weights/\n",
    "# And makes a very nice graph, tunes based on F1 score\n",
    "# Accessed on 10/16/22\n",
    "\n",
    "#Setting the range for class weights\n",
    "weights = np.linspace(0.0,0.99,200)\n",
    "\n",
    "#Creating a dictionary grid for grid search\n",
    "param_grid = {'class_weight': [{0:x, 1:1.0-x} for x in weights]}\n",
    "\n",
    "lr = LogisticRegression(random_state =0, max_iter = 10000, penalty = \"l2\", solver = \"newton-cg\")\n",
    "\n",
    "#Fitting grid search to the train data with 5 folds\n",
    "gridsearch = GridSearchCV(estimator= lr, \n",
    "                          param_grid= param_grid,\n",
    "                          cv=StratifiedKFold(), \n",
    "                          n_jobs=-1, \n",
    "                          scoring='f1', \n",
    "                          verbose=2).fit(X_train, y_train)\n",
    "\n",
    "#Ploting the score for different values of weight\n",
    "sns.set_style('whitegrid')\n",
    "plt.figure(figsize=(12,8))\n",
    "weigh_data = pd.DataFrame({ 'score': gridsearch.cv_results_['mean_test_score'], 'weight': (1- weights)})\n",
    "sns.lineplot(x = weigh_data['weight'],y = weigh_data['score'])\n",
    "plt.xlabel('Weight for class 1')\n",
    "plt.ylabel('F1 score')\n",
    "plt.xticks([round(i/10,1) for i in range(0,11,1)])\n",
    "plt.title('Scoring for different class weights', fontsize=24)"
   ]
  },
  {
   "cell_type": "code",
   "execution_count": 11,
   "id": "3e862887",
   "metadata": {},
   "outputs": [
    {
     "data": {
      "text/plain": [
       "score     0.232494\n",
       "weight    0.885578\n",
       "Name: 23, dtype: float64"
      ]
     },
     "execution_count": 11,
     "metadata": {},
     "output_type": "execute_result"
    }
   ],
   "source": [
    "# Get max weight\n",
    "weigh_data.loc[weigh_data['score'].idxmax()]"
   ]
  },
  {
   "cell_type": "code",
   "execution_count": 12,
   "id": "19509c30",
   "metadata": {},
   "outputs": [
    {
     "data": {
      "text/html": [
       "<style>#sk-container-id-1 {color: black;background-color: white;}#sk-container-id-1 pre{padding: 0;}#sk-container-id-1 div.sk-toggleable {background-color: white;}#sk-container-id-1 label.sk-toggleable__label {cursor: pointer;display: block;width: 100%;margin-bottom: 0;padding: 0.3em;box-sizing: border-box;text-align: center;}#sk-container-id-1 label.sk-toggleable__label-arrow:before {content: \"▸\";float: left;margin-right: 0.25em;color: #696969;}#sk-container-id-1 label.sk-toggleable__label-arrow:hover:before {color: black;}#sk-container-id-1 div.sk-estimator:hover label.sk-toggleable__label-arrow:before {color: black;}#sk-container-id-1 div.sk-toggleable__content {max-height: 0;max-width: 0;overflow: hidden;text-align: left;background-color: #f0f8ff;}#sk-container-id-1 div.sk-toggleable__content pre {margin: 0.2em;color: black;border-radius: 0.25em;background-color: #f0f8ff;}#sk-container-id-1 input.sk-toggleable__control:checked~div.sk-toggleable__content {max-height: 200px;max-width: 100%;overflow: auto;}#sk-container-id-1 input.sk-toggleable__control:checked~label.sk-toggleable__label-arrow:before {content: \"▾\";}#sk-container-id-1 div.sk-estimator input.sk-toggleable__control:checked~label.sk-toggleable__label {background-color: #d4ebff;}#sk-container-id-1 div.sk-label input.sk-toggleable__control:checked~label.sk-toggleable__label {background-color: #d4ebff;}#sk-container-id-1 input.sk-hidden--visually {border: 0;clip: rect(1px 1px 1px 1px);clip: rect(1px, 1px, 1px, 1px);height: 1px;margin: -1px;overflow: hidden;padding: 0;position: absolute;width: 1px;}#sk-container-id-1 div.sk-estimator {font-family: monospace;background-color: #f0f8ff;border: 1px dotted black;border-radius: 0.25em;box-sizing: border-box;margin-bottom: 0.5em;}#sk-container-id-1 div.sk-estimator:hover {background-color: #d4ebff;}#sk-container-id-1 div.sk-parallel-item::after {content: \"\";width: 100%;border-bottom: 1px solid gray;flex-grow: 1;}#sk-container-id-1 div.sk-label:hover label.sk-toggleable__label {background-color: #d4ebff;}#sk-container-id-1 div.sk-serial::before {content: \"\";position: absolute;border-left: 1px solid gray;box-sizing: border-box;top: 0;bottom: 0;left: 50%;z-index: 0;}#sk-container-id-1 div.sk-serial {display: flex;flex-direction: column;align-items: center;background-color: white;padding-right: 0.2em;padding-left: 0.2em;position: relative;}#sk-container-id-1 div.sk-item {position: relative;z-index: 1;}#sk-container-id-1 div.sk-parallel {display: flex;align-items: stretch;justify-content: center;background-color: white;position: relative;}#sk-container-id-1 div.sk-item::before, #sk-container-id-1 div.sk-parallel-item::before {content: \"\";position: absolute;border-left: 1px solid gray;box-sizing: border-box;top: 0;bottom: 0;left: 50%;z-index: -1;}#sk-container-id-1 div.sk-parallel-item {display: flex;flex-direction: column;z-index: 1;position: relative;background-color: white;}#sk-container-id-1 div.sk-parallel-item:first-child::after {align-self: flex-end;width: 50%;}#sk-container-id-1 div.sk-parallel-item:last-child::after {align-self: flex-start;width: 50%;}#sk-container-id-1 div.sk-parallel-item:only-child::after {width: 0;}#sk-container-id-1 div.sk-dashed-wrapped {border: 1px dashed gray;margin: 0 0.4em 0.5em 0.4em;box-sizing: border-box;padding-bottom: 0.4em;background-color: white;}#sk-container-id-1 div.sk-label label {font-family: monospace;font-weight: bold;display: inline-block;line-height: 1.2em;}#sk-container-id-1 div.sk-label-container {text-align: center;}#sk-container-id-1 div.sk-container {/* jupyter's `normalize.less` sets `[hidden] { display: none; }` but bootstrap.min.css set `[hidden] { display: none !important; }` so we also need the `!important` here to be able to override the default hidden behavior on the sphinx rendered scikit-learn.org. See: https://github.com/scikit-learn/scikit-learn/issues/21755 */display: inline-block !important;position: relative;}#sk-container-id-1 div.sk-text-repr-fallback {display: none;}</style><div id=\"sk-container-id-1\" class=\"sk-top-container\"><div class=\"sk-text-repr-fallback\"><pre>LogisticRegression(class_weight={0: 0.11442200000000002, 1: 0.885578},\n",
       "                   solver=&#x27;newton-cg&#x27;)</pre><b>In a Jupyter environment, please rerun this cell to show the HTML representation or trust the notebook. <br />On GitHub, the HTML representation is unable to render, please try loading this page with nbviewer.org.</b></div><div class=\"sk-container\" hidden><div class=\"sk-item\"><div class=\"sk-estimator sk-toggleable\"><input class=\"sk-toggleable__control sk-hidden--visually\" id=\"sk-estimator-id-1\" type=\"checkbox\" checked><label for=\"sk-estimator-id-1\" class=\"sk-toggleable__label sk-toggleable__label-arrow\">LogisticRegression</label><div class=\"sk-toggleable__content\"><pre>LogisticRegression(class_weight={0: 0.11442200000000002, 1: 0.885578},\n",
       "                   solver=&#x27;newton-cg&#x27;)</pre></div></div></div></div></div>"
      ],
      "text/plain": [
       "LogisticRegression(class_weight={0: 0.11442200000000002, 1: 0.885578},\n",
       "                   solver='newton-cg')"
      ]
     },
     "execution_count": 12,
     "metadata": {},
     "output_type": "execute_result"
    }
   ],
   "source": [
    "lrfinal = LogisticRegression(solver='newton-cg', class_weight={0:(1- 0.885578), 1: 0.885578})\n",
    "lrfinal.fit(X_train, y_train)\n"
   ]
  },
  {
   "cell_type": "code",
   "execution_count": 13,
   "id": "f0ef8def",
   "metadata": {},
   "outputs": [
    {
     "name": "stdout",
     "output_type": "stream",
     "text": [
      "[[13516   830]\n",
      " [  502   152]]\n"
     ]
    },
    {
     "data": {
      "text/plain": [
       "0.0888"
      ]
     },
     "execution_count": 13,
     "metadata": {},
     "output_type": "execute_result"
    }
   ],
   "source": [
    "#Final confusion matrix and score\n",
    "y_predict = lrfinal.predict(X_test)\n",
    "print(confusion_matrix(y_test, y_predict))\n",
    "brier_score_loss(y_test,y_predict)"
   ]
  },
  {
   "cell_type": "code",
   "execution_count": 14,
   "id": "496b61c7",
   "metadata": {},
   "outputs": [
    {
     "name": "stdout",
     "output_type": "stream",
     "text": [
      "[[11739  2607]\n",
      " [  370   284]]\n"
     ]
    }
   ],
   "source": [
    "#Try polynomial features for kicks\n",
    "poly = PolynomialFeatures(degree = 2, interaction_only=False, include_bias=False)\n",
    "X_poly = poly.fit_transform(X_train)\n",
    "lr = LogisticRegression(max_iter = 10000, class_weight = \"balanced\")\n",
    "lr.fit(X_poly,y_train)\n",
    "X_poly_test = poly.fit_transform(X_train)\n",
    "lr.score(poly.transform(X_test), y_test)\n",
    "\n",
    "#Doesn't really help.\n",
    "y_predict = lr.predict(poly.transform(X_test))\n",
    "print(confusion_matrix(y_test, y_predict))\n"
   ]
  },
  {
   "cell_type": "markdown",
   "id": "48a56565",
   "metadata": {},
   "source": [
    "# Random Forest\n",
    "\n",
    "A second model is not requested for the Featurespace project, and I would like to reiterate that this model is not suitable here. In a work setting, I would continue to search for a more suitable model (assuming the logistic regression wasn't acceptable for some reason)."
   ]
  },
  {
   "cell_type": "code",
   "execution_count": 15,
   "id": "18e1d866",
   "metadata": {},
   "outputs": [
    {
     "name": "stdout",
     "output_type": "stream",
     "text": [
      "Accuracy: 0.953\n",
      "[[14288    58]\n",
      " [  647     7]]\n"
     ]
    },
    {
     "data": {
      "text/plain": [
       "0.047"
      ]
     },
     "execution_count": 15,
     "metadata": {},
     "output_type": "execute_result"
    }
   ],
   "source": [
    "#Create a Gaussian Classifier\n",
    "clf=RandomForestClassifier(n_estimators=100,class_weight=\"balanced\")\n",
    "\n",
    "#Train the model using the training sets y_pred=clf.predict(X_test)\n",
    "clf.fit(X_train,y_train)\n",
    "\n",
    "y_pred=clf.predict(X_test)\n",
    "\n",
    "from sklearn import metrics\n",
    "# Model Accuracy, how often is the classifier correct?\n",
    "print(\"Accuracy:\",metrics.accuracy_score(y_test, y_pred))\n",
    "\n",
    "y_predict = clf.predict(X_test)\n",
    "print(confusion_matrix(y_test, y_predict))\n",
    "brier_score_loss(y_test,y_predict)"
   ]
  },
  {
   "cell_type": "code",
   "execution_count": 16,
   "id": "7059f817",
   "metadata": {},
   "outputs": [
    {
     "name": "stdout",
     "output_type": "stream",
     "text": [
      "Fitting 5 folds for each of 50 candidates, totalling 250 fits\n"
     ]
    },
    {
     "data": {
      "text/plain": [
       "Text(0.5, 1.0, 'Scoring for different class weights')"
      ]
     },
     "execution_count": 16,
     "metadata": {},
     "output_type": "execute_result"
    },
    {
     "data": {
      "image/png": "[encoded data removed]",
      "text/plain": [
       "<Figure size 864x576 with 1 Axes>"
      ]
     },
     "metadata": {},
     "output_type": "display_data"
    }
   ],
   "source": [
    "# While I was familiar with tuning weights via a grid search, this code is only slightly altered from here:\n",
    "# https://www.analyticsvidhya.com/blog/2020/10/improve-class-imbalance-class-weights/\n",
    "# And makes a very nice graph, tunes based on F1 score\n",
    "# Accessed on 10/16/22\n",
    "\n",
    "#Setting the range for class weights\n",
    "#This was originally more spread out but I narrowed it down\n",
    "weights = np.linspace(0.0,0.05,50)\n",
    "\n",
    "#Creating a dictionary grid for grid search\n",
    "param_grid = {'class_weight': [{0:x, 1:1.0-x} for x in weights]}\n",
    "\n",
    "clf=RandomForestClassifier(n_estimators=100)\n",
    "\n",
    "#Fitting grid search to the train data with 5 folds\n",
    "gridsearch = GridSearchCV(estimator= clf, \n",
    "                          param_grid= param_grid,\n",
    "                          cv=StratifiedKFold(), \n",
    "                          n_jobs=-1, \n",
    "                          scoring='f1', \n",
    "                          verbose=2).fit(X_train, y_train)\n",
    "\n",
    "#Ploting the score for different values of weight\n",
    "sns.set_style('whitegrid')\n",
    "plt.figure(figsize=(12,8))\n",
    "weigh_data = pd.DataFrame({ 'score': gridsearch.cv_results_['mean_test_score'], 'weight': (1- weights)})\n",
    "sns.lineplot(x = weigh_data['weight'],y = weigh_data['score'])\n",
    "plt.xlabel('Weight for class 1')\n",
    "plt.ylabel('F1 score')\n",
    "plt.xticks([round(i/10,1) for i in range(0,11,1)])\n",
    "plt.title('Scoring for different class weights', fontsize=24)"
   ]
  },
  {
   "cell_type": "code",
   "execution_count": 17,
   "id": "b60f6870",
   "metadata": {},
   "outputs": [
    {
     "data": {
      "text/html": [
       "<div>\n",
       "<style scoped>\n",
       "    .dataframe tbody tr th:only-of-type {\n",
       "        vertical-align: middle;\n",
       "    }\n",
       "\n",
       "    .dataframe tbody tr th {\n",
       "        vertical-align: top;\n",
       "    }\n",
       "\n",
       "    .dataframe thead th {\n",
       "        text-align: right;\n",
       "    }\n",
       "</style>\n",
       "<table border=\"1\" class=\"dataframe\">\n",
       "  <thead>\n",
       "    <tr style=\"text-align: right;\">\n",
       "      <th></th>\n",
       "      <th>score</th>\n",
       "      <th>weight</th>\n",
       "    </tr>\n",
       "  </thead>\n",
       "  <tbody>\n",
       "    <tr>\n",
       "      <th>0</th>\n",
       "      <td>0.083557</td>\n",
       "      <td>1.000000</td>\n",
       "    </tr>\n",
       "    <tr>\n",
       "      <th>1</th>\n",
       "      <td>0.013891</td>\n",
       "      <td>0.998980</td>\n",
       "    </tr>\n",
       "    <tr>\n",
       "      <th>2</th>\n",
       "      <td>0.013891</td>\n",
       "      <td>0.997959</td>\n",
       "    </tr>\n",
       "    <tr>\n",
       "      <th>3</th>\n",
       "      <td>0.013950</td>\n",
       "      <td>0.996939</td>\n",
       "    </tr>\n",
       "    <tr>\n",
       "      <th>4</th>\n",
       "      <td>0.013949</td>\n",
       "      <td>0.995918</td>\n",
       "    </tr>\n",
       "    <tr>\n",
       "      <th>5</th>\n",
       "      <td>0.013891</td>\n",
       "      <td>0.994898</td>\n",
       "    </tr>\n",
       "    <tr>\n",
       "      <th>6</th>\n",
       "      <td>0.013891</td>\n",
       "      <td>0.993878</td>\n",
       "    </tr>\n",
       "    <tr>\n",
       "      <th>7</th>\n",
       "      <td>0.013949</td>\n",
       "      <td>0.992857</td>\n",
       "    </tr>\n",
       "    <tr>\n",
       "      <th>8</th>\n",
       "      <td>0.013891</td>\n",
       "      <td>0.991837</td>\n",
       "    </tr>\n",
       "    <tr>\n",
       "      <th>9</th>\n",
       "      <td>0.013949</td>\n",
       "      <td>0.990816</td>\n",
       "    </tr>\n",
       "    <tr>\n",
       "      <th>10</th>\n",
       "      <td>0.013891</td>\n",
       "      <td>0.989796</td>\n",
       "    </tr>\n",
       "    <tr>\n",
       "      <th>11</th>\n",
       "      <td>0.013929</td>\n",
       "      <td>0.988776</td>\n",
       "    </tr>\n",
       "    <tr>\n",
       "      <th>12</th>\n",
       "      <td>0.013891</td>\n",
       "      <td>0.987755</td>\n",
       "    </tr>\n",
       "    <tr>\n",
       "      <th>13</th>\n",
       "      <td>0.013929</td>\n",
       "      <td>0.986735</td>\n",
       "    </tr>\n",
       "    <tr>\n",
       "      <th>14</th>\n",
       "      <td>0.011209</td>\n",
       "      <td>0.985714</td>\n",
       "    </tr>\n",
       "    <tr>\n",
       "      <th>15</th>\n",
       "      <td>0.013929</td>\n",
       "      <td>0.984694</td>\n",
       "    </tr>\n",
       "    <tr>\n",
       "      <th>16</th>\n",
       "      <td>0.013911</td>\n",
       "      <td>0.983673</td>\n",
       "    </tr>\n",
       "    <tr>\n",
       "      <th>17</th>\n",
       "      <td>0.013891</td>\n",
       "      <td>0.982653</td>\n",
       "    </tr>\n",
       "    <tr>\n",
       "      <th>18</th>\n",
       "      <td>0.013929</td>\n",
       "      <td>0.981633</td>\n",
       "    </tr>\n",
       "    <tr>\n",
       "      <th>19</th>\n",
       "      <td>0.011133</td>\n",
       "      <td>0.980612</td>\n",
       "    </tr>\n",
       "    <tr>\n",
       "      <th>20</th>\n",
       "      <td>0.013929</td>\n",
       "      <td>0.979592</td>\n",
       "    </tr>\n",
       "    <tr>\n",
       "      <th>21</th>\n",
       "      <td>0.013891</td>\n",
       "      <td>0.978571</td>\n",
       "    </tr>\n",
       "    <tr>\n",
       "      <th>22</th>\n",
       "      <td>0.013949</td>\n",
       "      <td>0.977551</td>\n",
       "    </tr>\n",
       "    <tr>\n",
       "      <th>23</th>\n",
       "      <td>0.011209</td>\n",
       "      <td>0.976531</td>\n",
       "    </tr>\n",
       "    <tr>\n",
       "      <th>24</th>\n",
       "      <td>0.013911</td>\n",
       "      <td>0.975510</td>\n",
       "    </tr>\n",
       "    <tr>\n",
       "      <th>25</th>\n",
       "      <td>0.013949</td>\n",
       "      <td>0.974490</td>\n",
       "    </tr>\n",
       "    <tr>\n",
       "      <th>26</th>\n",
       "      <td>0.013949</td>\n",
       "      <td>0.973469</td>\n",
       "    </tr>\n",
       "    <tr>\n",
       "      <th>27</th>\n",
       "      <td>0.013911</td>\n",
       "      <td>0.972449</td>\n",
       "    </tr>\n",
       "    <tr>\n",
       "      <th>28</th>\n",
       "      <td>0.013891</td>\n",
       "      <td>0.971429</td>\n",
       "    </tr>\n",
       "    <tr>\n",
       "      <th>29</th>\n",
       "      <td>0.013911</td>\n",
       "      <td>0.970408</td>\n",
       "    </tr>\n",
       "    <tr>\n",
       "      <th>30</th>\n",
       "      <td>0.013891</td>\n",
       "      <td>0.969388</td>\n",
       "    </tr>\n",
       "    <tr>\n",
       "      <th>31</th>\n",
       "      <td>0.013891</td>\n",
       "      <td>0.968367</td>\n",
       "    </tr>\n",
       "    <tr>\n",
       "      <th>32</th>\n",
       "      <td>0.013911</td>\n",
       "      <td>0.967347</td>\n",
       "    </tr>\n",
       "    <tr>\n",
       "      <th>33</th>\n",
       "      <td>0.013929</td>\n",
       "      <td>0.966327</td>\n",
       "    </tr>\n",
       "    <tr>\n",
       "      <th>34</th>\n",
       "      <td>0.013911</td>\n",
       "      <td>0.965306</td>\n",
       "    </tr>\n",
       "    <tr>\n",
       "      <th>35</th>\n",
       "      <td>0.011190</td>\n",
       "      <td>0.964286</td>\n",
       "    </tr>\n",
       "    <tr>\n",
       "      <th>36</th>\n",
       "      <td>0.013929</td>\n",
       "      <td>0.963265</td>\n",
       "    </tr>\n",
       "    <tr>\n",
       "      <th>37</th>\n",
       "      <td>0.013969</td>\n",
       "      <td>0.962245</td>\n",
       "    </tr>\n",
       "    <tr>\n",
       "      <th>38</th>\n",
       "      <td>0.013970</td>\n",
       "      <td>0.961224</td>\n",
       "    </tr>\n",
       "    <tr>\n",
       "      <th>39</th>\n",
       "      <td>0.013929</td>\n",
       "      <td>0.960204</td>\n",
       "    </tr>\n",
       "    <tr>\n",
       "      <th>40</th>\n",
       "      <td>0.013911</td>\n",
       "      <td>0.959184</td>\n",
       "    </tr>\n",
       "    <tr>\n",
       "      <th>41</th>\n",
       "      <td>0.013931</td>\n",
       "      <td>0.958163</td>\n",
       "    </tr>\n",
       "    <tr>\n",
       "      <th>42</th>\n",
       "      <td>0.013911</td>\n",
       "      <td>0.957143</td>\n",
       "    </tr>\n",
       "    <tr>\n",
       "      <th>43</th>\n",
       "      <td>0.013949</td>\n",
       "      <td>0.956122</td>\n",
       "    </tr>\n",
       "    <tr>\n",
       "      <th>44</th>\n",
       "      <td>0.013891</td>\n",
       "      <td>0.955102</td>\n",
       "    </tr>\n",
       "    <tr>\n",
       "      <th>45</th>\n",
       "      <td>0.013911</td>\n",
       "      <td>0.954082</td>\n",
       "    </tr>\n",
       "    <tr>\n",
       "      <th>46</th>\n",
       "      <td>0.011254</td>\n",
       "      <td>0.953061</td>\n",
       "    </tr>\n",
       "    <tr>\n",
       "      <th>47</th>\n",
       "      <td>0.014026</td>\n",
       "      <td>0.952041</td>\n",
       "    </tr>\n",
       "    <tr>\n",
       "      <th>48</th>\n",
       "      <td>0.013988</td>\n",
       "      <td>0.951020</td>\n",
       "    </tr>\n",
       "    <tr>\n",
       "      <th>49</th>\n",
       "      <td>0.011236</td>\n",
       "      <td>0.950000</td>\n",
       "    </tr>\n",
       "  </tbody>\n",
       "</table>\n",
       "</div>"
      ],
      "text/plain": [
       "       score    weight\n",
       "0   0.083557  1.000000\n",
       "1   0.013891  0.998980\n",
       "2   0.013891  0.997959\n",
       "3   0.013950  0.996939\n",
       "4   0.013949  0.995918\n",
       "5   0.013891  0.994898\n",
       "6   0.013891  0.993878\n",
       "7   0.013949  0.992857\n",
       "8   0.013891  0.991837\n",
       "9   0.013949  0.990816\n",
       "10  0.013891  0.989796\n",
       "11  0.013929  0.988776\n",
       "12  0.013891  0.987755\n",
       "13  0.013929  0.986735\n",
       "14  0.011209  0.985714\n",
       "15  0.013929  0.984694\n",
       "16  0.013911  0.983673\n",
       "17  0.013891  0.982653\n",
       "18  0.013929  0.981633\n",
       "19  0.011133  0.980612\n",
       "20  0.013929  0.979592\n",
       "21  0.013891  0.978571\n",
       "22  0.013949  0.977551\n",
       "23  0.011209  0.976531\n",
       "24  0.013911  0.975510\n",
       "25  0.013949  0.974490\n",
       "26  0.013949  0.973469\n",
       "27  0.013911  0.972449\n",
       "28  0.013891  0.971429\n",
       "29  0.013911  0.970408\n",
       "30  0.013891  0.969388\n",
       "31  0.013891  0.968367\n",
       "32  0.013911  0.967347\n",
       "33  0.013929  0.966327\n",
       "34  0.013911  0.965306\n",
       "35  0.011190  0.964286\n",
       "36  0.013929  0.963265\n",
       "37  0.013969  0.962245\n",
       "38  0.013970  0.961224\n",
       "39  0.013929  0.960204\n",
       "40  0.013911  0.959184\n",
       "41  0.013931  0.958163\n",
       "42  0.013911  0.957143\n",
       "43  0.013949  0.956122\n",
       "44  0.013891  0.955102\n",
       "45  0.013911  0.954082\n",
       "46  0.011254  0.953061\n",
       "47  0.014026  0.952041\n",
       "48  0.013988  0.951020\n",
       "49  0.011236  0.950000"
      ]
     },
     "execution_count": 17,
     "metadata": {},
     "output_type": "execute_result"
    }
   ],
   "source": [
    "# Looking at weigh data, picking 0.954082\n",
    "weigh_data"
   ]
  },
  {
   "cell_type": "code",
   "execution_count": 18,
   "id": "e48d53dc",
   "metadata": {},
   "outputs": [
    {
     "name": "stdout",
     "output_type": "stream",
     "text": [
      "[[14291    55]\n",
      " [  648     6]]\n"
     ]
    },
    {
     "data": {
      "text/plain": [
       "0.04686666666666667"
      ]
     },
     "execution_count": 18,
     "metadata": {},
     "output_type": "execute_result"
    }
   ],
   "source": [
    "# This just doesn't work for this.\n",
    "clfgrid = RandomForestClassifier(n_estimators=100,class_weight={0:(1- 0.954082), 1: 0.954082})\n",
    "#clfgrid = RandomForestClassifier(n_estimators=100,class_weight={0:0.000001, 1: 1-0.000001})\n",
    "clfgrid.fit(X_train,y_train)\n",
    "\n",
    "y_predict = clfgrid.predict(X_test)\n",
    "print(confusion_matrix(y_test, y_predict))\n",
    "brier_score_loss(y_test,y_predict)"
   ]
  },
  {
   "cell_type": "markdown",
   "id": "63e3c2f5",
   "metadata": {},
   "source": [
    "# Comparison to Benchmark\n",
    "\n",
    "\n",
    "I'm not certain how the benchmark was made, and since it wasn't necessarily set to optimize F1 score, we can compare Briers score (both for separate and individual) and confusion matrix. Also, I suppose I'll throw the model on the entire dataset, even though it trained on that data, just for numerical comparison. I also could have compared the ratios.\n",
    "\n",
    "I can't actually tell what the benchmark is doing. I assume that a benchmark greater than 500 (or .5) predicts a 1. In that case, it is predicting *a lot* of ones.\n"
   ]
  },
  {
   "cell_type": "code",
   "execution_count": 19,
   "id": "b692d88c",
   "metadata": {},
   "outputs": [
    {
     "name": "stdout",
     "output_type": "stream",
     "text": [
      "28614.0 is the benchmark 1 rate I think.\n"
     ]
    }
   ],
   "source": [
    "# Back to our original dataset to look at the benchmark\n",
    "dfbase = pd.read_csv('Modeling Dataset.csv')\n",
    "brier_score_loss(dfbase['target'],dfbase['benchmark']/1000)\n",
    "#0.43254978613333334\n",
    "dfbase['round_predict'] = round(dfbase['benchmark']/1000)\n",
    "print(sum(dfbase['round_predict']),'is the benchmark 1 rate I think.')\n",
    "\n"
   ]
  },
  {
   "cell_type": "markdown",
   "id": "e583c5c1",
   "metadata": {},
   "source": [
    "Let's compare that to the full dataset info for the logistic model. I'm just going to ignore the random forest model, it isn't good. If I had more time I'd figure out something better, but it was just a quick attempt."
   ]
  },
  {
   "cell_type": "code",
   "execution_count": 20,
   "id": "e1813905",
   "metadata": {},
   "outputs": [
    {
     "name": "stdout",
     "output_type": "stream",
     "text": [
      "[[27109  1583]\n",
      " [  948   360]]\n"
     ]
    },
    {
     "data": {
      "text/plain": [
       "0.08436666666666667"
      ]
     },
     "execution_count": 20,
     "metadata": {},
     "output_type": "execute_result"
    }
   ],
   "source": [
    "frames = [X_test, X_train]\n",
    "X = pd.concat(frames)\n",
    "frames = [y_test, y_train]\n",
    "y = pd.concat(frames)\n",
    "\n",
    "# Logistic regression redux\n",
    "lrfinal = LogisticRegression(solver='newton-cg', class_weight={0:(1- 0.885578), 1: 0.885578})\n",
    "lrfinal.fit(X_train, y_train)\n",
    "y_predict = lrfinal.predict(X)\n",
    "print(confusion_matrix(y, y_predict))\n",
    "brier_score_loss(y,y_predict)\n"
   ]
  },
  {
   "cell_type": "code",
   "execution_count": 21,
   "id": "d8aca7cd",
   "metadata": {},
   "outputs": [
    {
     "name": "stdout",
     "output_type": "stream",
     "text": [
      "0.22147031682559215\n",
      "0.588435205990727\n",
      "0.9156333333333333\n",
      "0.923400756820662\n"
     ]
    }
   ],
   "source": [
    "# for logistic\n",
    "print(f1_score(y, y_predict))\n",
    "print(f1_score(y, y_predict, average='macro'))\n",
    "print(f1_score(y, y_predict, average='micro'))\n",
    "print(f1_score(y, y_predict, average='weighted'))"
   ]
  },
  {
   "cell_type": "code",
   "execution_count": 22,
   "id": "da62f56a",
   "metadata": {},
   "outputs": [
    {
     "name": "stdout",
     "output_type": "stream",
     "text": [
      "0.0729229329590268\n",
      "0.07532708254441134\n",
      "0.07533333333333334\n",
      "0.07752159028595033\n",
      "[[ 1169 27523]\n",
      " [  217  1091]]\n"
     ]
    }
   ],
   "source": [
    "# for benchmark\n",
    "y = dfbase['target']\n",
    "y_predict = dfbase['round_predict']\n",
    "print(f1_score(y, y_predict))\n",
    "print(f1_score(y, y_predict, average='macro'))\n",
    "print(f1_score(y, y_predict, average='micro'))\n",
    "print(f1_score(y, y_predict, average='weighted'))\n",
    "print(confusion_matrix(y, y_predict))"
   ]
  },
  {
   "cell_type": "markdown",
   "id": "057aa856",
   "metadata": {},
   "source": [
    "Ah, the benchmark is quite bad! Now that I've finally looked at the confusion matrix, I see that it is *vastly* overpredicting 1 values. It correspondingly *does* catch more of them than my logistic regression model, but at the cost of predicting them much more often than they actually occur. So overall, my model isn't so bad. I think it really depends on what the goals of the model are, and what we want to do. I also acknowledge the total failings of my second model, which should be totally redone or scrapped for a better process."
   ]
  }
 ],
 "metadata": {
  "kernelspec": {
   "display_name": "Python 3 (ipykernel)",
   "language": "python",
   "name": "python3"
  },
  "language_info": {
   "codemirror_mode": {
    "name": "ipython",
    "version": 3
   },
   "file_extension": ".py",
   "mimetype": "text/x-python",
   "name": "python",
   "nbconvert_exporter": "python",
   "pygments_lexer": "ipython3",
   "version": "3.9.5"
  }
 },
 "nbformat": 4,
 "nbformat_minor": 5
}
